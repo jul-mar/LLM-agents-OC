{
 "cells": [
  {
   "cell_type": "markdown",
   "id": "a6505298-5791-4f55-b6fc-4481ce2717ba",
   "metadata": {},
   "source": [
    "# Retrieval Augmented Generation (RAG)"
   ]
  },
  {
   "cell_type": "markdown",
   "id": "c723f2c6-0077-4455-a940-55dcc9dcb745",
   "metadata": {},
   "source": [
    "We can think of large language models (LLMs) as people who have read every book in a library up until a certain date. 📚 They've remembered the content with varying degrees of accuracy, but their knowledge base consists of everything that was in that library.\n",
    "\n",
    "In the case of LLMs, the \"library\" is actually a massive collection of internet documents—heavily filtered for quality—along with some curated private datasets, such as newspaper archives and academic papers.\n",
    "\n",
    "If we need the model to understand or use information that was not (or only barely) included in its training data, we have to provide that information in the prompt. However, there's a limit to how much information we can give at once. This is due to something called a context window—a maximum number of tokens (e.g., 8,096 tokens) that the model can process in a single prompt."
   ]
  },
  {
   "cell_type": "markdown",
   "id": "8cb34eb5-4007-4b59-bc71-c6e975ba6aee",
   "metadata": {},
   "source": [
    "## Augmented"
   ]
  },
  {
   "cell_type": "code",
   "execution_count": 18,
   "id": "2aa41425-fe74-457f-adfb-3beb69b8d208",
   "metadata": {},
   "outputs": [
    {
     "data": {
      "text/markdown": [
       "Okay, let's brainstorm some gift ideas! To give you the *best* recommendations, I need a little more information. Let's start with a few questions:\n",
       "\n",
       "**1. Who are you shopping for?** (Be specific! Is it a: )\n",
       "   * **Friend?** (What are their interests?)\n",
       "   * **Family Member?** (Age, relationship to you - parent, sibling, child, etc.?)\n",
       "   * **Partner?** (What do they love?)\n",
       "   * **Coworker?** (What's your relationship like?)\n",
       "   * **Other?** (e.g., neighbor, teacher, etc.)\n",
       "\n",
       "**2. What’s your budget?** (Roughly - under $25, $25-$50, $50-$100, $100+, or no limit?)\n",
       "\n",
       "**3. What are their interests/hobbies?** (Here are some categories to get you thinking, but feel free to add more!)\n",
       "   * **Experiences:** Travel, concerts, cooking classes, sporting events, spa days\n",
       "   * **Hobbies:**  Reading, gaming, crafting, gardening, cooking, music, sports, fitness\n",
       "   * **Tech:** Gadgets, headphones, smart home devices\n",
       "   * **Fashion/Beauty:** Clothing, jewelry, makeup, skincare\n",
       "   * **Home & Kitchen:** Candles, cookware, blankets, organizers\n",
       "   * **Books/Movies/Music:** Genre preferences?\n",
       "   * **Personalized Gifts:**  Anything with their name or initials?\n",
       "   * **Funny/Novelty Gifts**\n",
       "   * **Practical Gifts:** Things they need or would use regularly\n",
       "\n",
       "**4. What’s the occasion?** (Birthday, holiday, anniversary, just because?)\n",
       "\n",
       "Once I have a better idea of who you’re shopping for and what you’re looking for, I can give you more tailored suggestions.\n",
       "\n",
       "**To get us started, let’s just list a few general ideas based on different price ranges:**\n",
       "\n",
       "* **Under $25:**\n",
       "    *  A nice notebook and pen\n",
       "    *  A small succulent plant\n",
       "    *  Gourmet hot chocolate or tea\n",
       "    *  Fun socks\n",
       "    *  Bath bombs or soap \n",
       "\n",
       "* **$25 - $50:**\n",
       "    *  A good quality scarf\n",
       "    *  A Bluetooth speaker\n",
       "    *  A personalized mug\n",
       "    *  A set of craft supplies\n",
       "    *  A book by their favorite author \n",
       "\n",
       "* **$50 - $100:**\n",
       "    *  A cozy blanket\n",
       "    *  Wireless headphones\n",
       "    *  A subscription box (coffee, beauty, books, etc.)\n",
       "    *  A gift certificate to their favorite store or restaurant\n",
       "    *  A board game \n",
       "\n",
       "* **$100+:** \n",
       "    * High-quality headphones\n",
       "    * Smart home device\n",
       "    *  Weekend getaway\n",
       "    *  High end kitchen item\n",
       "\n",
       "**Let's start with the first question: Who are you shopping for?**"
      ],
      "text/plain": [
       "<IPython.core.display.Markdown object>"
      ]
     },
     "metadata": {},
     "output_type": "display_data"
    }
   ],
   "source": [
    "from ollama import chat\n",
    "from IPython.display import Markdown, display\n",
    "\n",
    "chat_response = chat(model='gemma3:4b-it-qat', messages=[\n",
    "    {\n",
    "    'role': 'user',\n",
    "    'content': 'Hey, I am looking for some gifts, could you recommend some',\n",
    "    },\n",
    "])\n",
    "\n",
    "display(Markdown(chat_response.message.content))"
   ]
  },
  {
   "cell_type": "markdown",
   "id": "aaf2a728-5bc2-4566-b7e8-62773f492601",
   "metadata": {},
   "source": [
    "---"
   ]
  },
  {
   "cell_type": "markdown",
   "id": "31fbb0d4-f157-41b2-8fa3-27bc314832b6",
   "metadata": {},
   "source": [
    "Let's now do the same with the context that it is currently Easter and see how the model adapts its gift recommendations."
   ]
  },
  {
   "cell_type": "code",
   "execution_count": 3,
   "id": "9340b481-945b-46f4-a7d0-d647fa69a53e",
   "metadata": {},
   "outputs": [
    {
     "data": {
      "text/markdown": [
       "Okay, let's brainstorm some Easter gift ideas for 2025! To give you the best recommendations, I need a little more information about who you're buying for. Could you tell me:\n",
       "\n",
       "1. **Who are you buying for?** (e.g., Kids, adults, a couple, family, friends, coworkers, etc.)\n",
       "2. **What's your budget?** (Roughly – e.g., under $25, $25-$50, $50-$100, no limit!)\n",
       "3. **What are their interests?** (e.g., baking, gardening, reading, crafts, tech, outdoors, self-care, games, etc.) \n",
       "4. **Are there any particular themes you’re going for?** (e.g., cute, luxurious, practical, funny, sentimental)\n",
       "\n",
       "\n",
       "\n",
       "In the meantime, here's a broad range of ideas, categorized by price range, for Easter 2025:\n",
       "\n",
       "**Under $25**\n",
       "\n",
       "* **Easter Basket Fillers:** Jelly beans, chocolate eggs, small toys, stickers, temporary tattoos. \n",
       "* **Personalized Easter Eggs:** You can find kits to decorate your own eggs.\n",
       "* **Cute Socks:** Easter themed socks are always a fun gift.\n",
       "* **Miniature Plants:** Succulents or small flowering plants.\n",
       "* **Tea or Coffee Sampler:** Small selection of flavored teas or gourmet coffee.\n",
       "* **Handmade Treats:** Cookies, fudge, or other baked goods.\n",
       "\n",
       "\n",
       "**$25 - $50**\n",
       "\n",
       "* **Novelty Mug:** With an Easter theme or a funny quote.\n",
       "* **Cozy Blanket:** Perfect for snuggling up with on a spring day.\n",
       "* **Bath Bombs or Bubble Bath:** Relaxation gifts.\n",
       "* **Small Gardening Kit:** Seeds, tools, and a small pot.\n",
       "* **Adult Coloring Book & Colored Pencils:**  Relaxing and creative.\n",
       "* **Gift Card:**  To a favorite store, coffee shop, or restaurant.\n",
       "* **Decorative Easter Eggs:** Beautiful ceramic or glass eggs.\n",
       "\n",
       "\n",
       "\n",
       "**$50 - $100**\n",
       "\n",
       "* **High-Quality Chocolate:** A box of artisan chocolates or a gourmet chocolate bar.\n",
       "* **Cookbook:** Focused on spring recipes, baking, or a specific cuisine.\n",
       "* **Portable Bluetooth Speaker:** Great for picnics and outdoor activities.\n",
       "* **Essential Oil Diffuser & Essential Oils:** For creating a relaxing atmosphere.\n",
       "* **Jewelry:** Small earrings, necklace, or bracelet with an Easter or spring theme.\n",
       "* **Subscription Box:** Tailored to their interests (e.g., coffee, beauty, books).\n",
       "* **Luxury Hand Cream or Lotion:** Especially nice for spring when skin can feel dry.\n",
       "\n",
       "\n",
       "**Splurge-Worthy (Over $100)**\n",
       "\n",
       "* **Smart Home Device:** (Echo Dot, Google Home Mini) –  If they’re tech-minded.\n",
       "* **Weekend Getaway Voucher:** Local experience.\n",
       "* **High-End Kitchen Gadget:** (e.g., immersion blender, food processor) – if they love to cook.\n",
       "* **Artwork:** Small prints or paintings. \n",
       "\n",
       "---\n",
       "\n",
       "**A few trends for Easter 2025 (based on current trends and what's likely to be popular):**\n",
       "\n",
       "* **Sustainability:** Eco-friendly gifts are always appreciated. Look for organic chocolate, reusable baskets, and sustainable gardening supplies.\n",
       "* **Personalization:** Items with names or initials add a special touch.\n",
       "* **Experiences:** Rather than just physical gifts, consider gifting an experience like a cooking class, concert tickets, or a spa day.\n",
       "\n",
       "\n",
       "To help me narrow down the best recommendations for *you*, tell me more about the person you are shopping for!"
      ],
      "text/plain": [
       "<IPython.core.display.Markdown object>"
      ]
     },
     "metadata": {},
     "output_type": "display_data"
    }
   ],
   "source": [
    "extra_content = \"It is Easter 2025.\"\n",
    "\n",
    "chat_response = chat(model='gemma3:4b-it-qat', messages=[\n",
    "    {\n",
    "    'role': 'user',\n",
    "    'content': 'Hey, I am looking for some gifts, could you recommend some' + extra_content,\n",
    "    },\n",
    "])\n",
    "\n",
    "display(Markdown(chat_response.message.content))"
   ]
  },
  {
   "cell_type": "markdown",
   "id": "14775cd0-e655-4470-a6fa-c221f28caa09",
   "metadata": {},
   "source": [
    "---"
   ]
  },
  {
   "cell_type": "markdown",
   "id": "438bd64b-0c52-49a8-8004-f5db1a3c9a6b",
   "metadata": {},
   "source": [
    "The notebook is named **RAG (Retrieval-Augmented Generation)**. In this context, \"augmentation\" refers to enriching the generation process with additional, task-specific information. However, when the volume of available data is too large to insert in full, we must **retrieve** only the most relevant parts to use as context.\n",
    "\n",
    "**Note**: Having a context window of for example 128.000 tokens does not mean that we should fill it up until that. Adding more and more tokens leads to more latency (i.e. it takes longer for the model to serve the user) and there could be also an information overload i.e. that the information fits into the context window but there is just too much information for the model may overlook important details. (This in the end could be only found out by testing, but personally I think in terms of information density and complexity. The german \"Bild Zeitung\" has for example a very low information density and complexity while a medical textbook has a very high information density and complexity. Hence doing Q&A over 30.000 tokens of Bild articles is definitively not the same as doing Q&A over 30.000 tokens of medical textbook pages."
   ]
  },
  {
   "cell_type": "markdown",
   "id": "0222e9de-f4d9-4f41-98ca-32d1f5d283f3",
   "metadata": {},
   "source": [
    "## Retrieval"
   ]
  },
  {
   "cell_type": "markdown",
   "id": "f03b4238-d04f-4405-b234-f1c45626407c",
   "metadata": {},
   "source": [
    "For actually retrieving something we need data. Let us consider for now this simplified database of ten different entries/documents about talks given on a future festival. We want to build a small RAG chatbot for festival visitors where they can ask for their specific interests what talks would fits the most. \n",
    "\n",
    "**Note** The dataset is so small that I would personally just completly put it always in the context but for demonstration purposes let's use the talks as single documents. Read through them to get a grasp of the data below:"
   ]
  },
  {
   "cell_type": "markdown",
   "id": "d70a321a-06c9-46e7-ab5d-b4dc55744a24",
   "metadata": {},
   "source": [
    "---"
   ]
  },
  {
   "cell_type": "code",
   "execution_count": 8,
   "id": "dd5be62d",
   "metadata": {},
   "outputs": [
    {
     "data": {
      "text/markdown": [
       "Okay, here's a list of ten talk headlines about AI and Medicine for a medical conference, with a short description for each:\n",
       "\n",
       "```python\n",
       "talk_ideas = [\n",
       "    \"🌿 AI-Powered Diagnostics: From Image Recognition to Predictive Modeling —  A deep dive into how AI is transforming diagnostic accuracy and efficiency in radiology, pathology, and cardiology.\",\n",
       "    \"🧠 Personalized Medicine & AI: Tailoring Treatment to the Individual —  Exploring how AI algorithms are analyzing patient data (genomics, lifestyle, etc.) to predict treatment response and optimize care plans.\",\n",
       "    \"🤖 Robotic Surgery & Precision Medicine — Examining the advancements in robotic surgery guided by AI, enhancing precision, minimizing invasiveness, and extending surgical capabilities.\",\n",
       "    \"🩺  Drug Discovery & AI: Accelerating the Search for New Therapies —  How machine learning is shortening the drug development pipeline by identifying promising drug candidates and predicting clinical trial outcomes.\",\n",
       "    \"🗣️ Natural Language Processing (NLP) in Healthcare: Transforming Patient Communication — Analyzing how AI is improving patient-doctor communication, automating appointment scheduling, and streamlining clinical documentation.\",\n",
       "    \"⏳ AI-Driven Clinical Trial Optimization — Exploring how AI is being used to design, recruit, and analyze clinical trials, potentially accelerating the development of new treatments.\",\n",
       "    \"🛡️ AI in Medical Cybersecurity: Protecting Patient Data in a Digital Age — Addressing the growing cybersecurity threats within the healthcare industry and how AI is helping to fortify defenses.\",\n",
       "    \"🤖  Mental Health & AI: From Chatbots to Predictive Analytics — Discussing the role of AI in mental healthcare, including virtual therapists, early detection of mental health conditions, and personalized interventions.\",\n",
       "    \"⚖️ The Ethics of AI in Medicine: Bias, Transparency, and Accountability — A critical discussion on the ethical considerations surrounding AI deployment in healthcare – focusing on fairness, explainability, and responsible use.\",\n",
       "    \"📈 Predictive Analytics for Patient Outcomes: Forecasting Risks and Improving Care Pathways — Using AI to identify patients at risk for specific conditions or adverse events, leading to proactive interventions and better health outcomes.\"\n",
       "]\n",
       "\n",
       "print(talk_ideas)\n",
       "```\n",
       "\n",
       "**Explanation of the Headlines & Descriptions:**\n",
       "\n",
       "1.  **AI-Powered Diagnostics:** Focuses on using AI to analyze medical images (X-rays, MRIs, etc.) and other data to help doctors make faster and more accurate diagnoses.\n",
       "2.  **Personalized Medicine & AI:** Explores how AI can take into account a patient's unique genetic makeup, lifestyle, and medical history to create customized treatment plans.\n",
       "3.  **Robotic Surgery & Precision Medicine:**  Addresses the intersection of robotic assistance and AI in surgery.\n",
       "4.  **Drug Discovery & AI:** Covers how AI is being used to design new drugs and accelerate the drug development process.\n",
       "5.  **Natural Language Processing (NLP) in Healthcare:** Discusses how AI can understand and interpret human language in medical records and patient interactions.\n",
       "6.  **AI-Driven Clinical Trial Optimization:**  Highlights how AI can make clinical trials more efficient and effective.\n",
       "7.  **AI in Medical Cybersecurity:**  A timely topic concerning protecting patient data.\n",
       "8.  **Mental Health & AI:**  Explores the use of AI in mental healthcare applications.\n",
       "9.  **The Ethics of AI in Medicine:** This is a crucial and increasingly important discussion.\n",
       "10. **Predictive Analytics for Patient Outcomes:**  How AI can identify patients at risk, leading to better care.\n",
       "\n",
       "I hope this list provides a good starting point for your conference!  Let me know if you'd like me to refine any of these further or generate more ideas."
      ],
      "text/plain": [
       "<IPython.core.display.Markdown object>"
      ]
     },
     "metadata": {},
     "output_type": "display_data"
    }
   ],
   "source": [
    "\n",
    "\n",
    "chat_response = chat(model='gemma3:4b-it-qat', messages=[\n",
    "    {\n",
    "    'role': 'user',\n",
    "    'content': 'Give me ten different ideas for a talk in a medical conference about AI and medicine, give me just the headlines with a short description as a python list. use this as a template: 🌿 The Next Nature: Designing with the Future in Mind — Explore how biomimicry, regenerative design, and synthetic biology are reshaping architecture, materials, and cities. Where does design end and nature begin?🧠 Neural Frontiers: The Brain-Computer Interface Revolution — From thought-controlled devices to memory enhancement, dive into the fast-evolving world of brain tech — and the ethical mazes it brings.'\n",
    "    },\n",
    "])\n",
    "\n",
    "display(Markdown(chat_response.message.content))"
   ]
  },
  {
   "cell_type": "code",
   "execution_count": 3,
   "id": "9cb8583c",
   "metadata": {},
   "outputs": [],
   "source": [
    "conference_talks = [\n",
    "    \"🌿 AI-Powered Diagnostics: From Image Recognition to Predictive Modeling —  A deep dive into how AI is transforming diagnostic accuracy and efficiency in radiology, pathology, and cardiology.\",\n",
    "    \"🧠 Personalized Medicine & AI: Tailoring Treatment to the Individual —  Exploring how AI algorithms are analyzing patient data (genomics, lifestyle, etc.) to predict treatment response and optimize care plans.\",\n",
    "    \"🤖 Robotic Surgery & Precision Medicine — Examining the advancements in robotic surgery guided by AI, enhancing precision, minimizing invasiveness, and extending surgical capabilities.\",\n",
    "    \"🩺  Drug Discovery & AI: Accelerating the Search for New Therapies —  How machine learning is shortening the drug development pipeline by identifying promising drug candidates and predicting clinical trial outcomes.\",\n",
    "    \"🗣️ Natural Language Processing (NLP) in Healthcare: Transforming Patient Communication — Analyzing how AI is improving patient-doctor communication, automating appointment scheduling, and streamlining clinical documentation.\",\n",
    "    \"⏳ AI-Driven Clinical Trial Optimization — Exploring how AI is being used to design, recruit, and analyze clinical trials, potentially accelerating the development of new treatments.\",\n",
    "    \"🛡️ AI in Medical Cybersecurity: Protecting Patient Data in a Digital Age — Addressing the growing cybersecurity threats within the healthcare industry and how AI is helping to fortify defenses.\",\n",
    "    \"🤖  Mental Health & AI: From Chatbots to Predictive Analytics — Discussing the role of AI in mental healthcare, including virtual therapists, early detection of mental health conditions, and personalized interventions.\",\n",
    "    \"⚖️ The Ethics of AI in Medicine: Bias, Transparency, and Accountability — A critical discussion on the ethical considerations surrounding AI deployment in healthcare – focusing on fairness, explainability, and responsible use.\",\n",
    "    \"📈 Predictive Analytics for Patient Outcomes: Forecasting Risks and Improving Care Pathways — Using AI to identify patients at risk for specific conditions or adverse events, leading to proactive interventions and better health outcomes.\"\n",
    "]"
   ]
  },
  {
   "cell_type": "markdown",
   "id": "a773e3eb-4ece-4508-a2da-e716960d0a59",
   "metadata": {},
   "source": [
    "For the retrieval part we need a kind of search based on the question over talks. The standard way was to do a key word search but with the upcoming AI era that default changed to a vector search. Therefor we need another type of model: An embedding model. An embedding model takes a text and transforms it into a vector of a certain size (e.g. 1*1048). Every text is mapped to a the same vector size. The embedding models are pretrained that they map similar texts close to each other in the vector space (so LLMs aren't the only cool models). Luckily ollama and also all major providers like openai and huggingface also provide embedding models. We will now take the currently best embedding models from ollama (lukily the embedding models are usually really small < 1GB)\n",
    "\n",
    "Run **ollama pull nomic-embed-text** in your terminal\n",
    "\n",
    "Ollama is able to serve the LLM and the embedding model at the same time (given enough (V)RAM)"
   ]
  },
  {
   "cell_type": "code",
   "execution_count": 1,
   "id": "c30687eb-a947-4088-912b-c7e18834a1e5",
   "metadata": {},
   "outputs": [
    {
     "name": "stdout",
     "output_type": "stream",
     "text": [
      "[[-0.041502286, 0.06628446, -0.17831539, -0.0172728, 0.020898324, -0.026522063, -0.011928272, 0.016973753, -0.010282754, -0.032326017, 0.050712567, -0.018785892, 0.045578834, -0.008008444, 0.012289435, 0.020681035, -0.04032844, -0.062262952, -0.031048754, -0.007387005, -0.016666602, -0.029492054, -0.011607731, 0.032623786, 0.089793846, 0.053531736, -0.027014343, 0.019747581, -0.008080636, 0.058983367, 0.07519262, -0.028705245, 0.021128558, 0.010178049, 0.043141577, 0.03356953, -0.0051477146, 0.0116890045, -0.0049916017, 0.0018178211, 0.041952297, 0.009736768, 0.03233126, -0.005776878, 0.048745286, -0.076678894, 0.020584777, 0.04454154, 0.050667692, -0.07111759, -0.020521093, -0.028842, -0.026862344, 0.008620026, 0.06509911, -0.01921516, -0.018238535, -0.011160255, 0.008027242, 0.016102072, 0.08535603, 0.030728811, 0.0014292471, 0.062300198, 0.019838529, 0.052453116, -0.0125041865, 0.071043335, -0.008098232, -0.012086772, 0.05763651, 0.0059301956, -0.0029317543, 0.012575271, -0.01968784, 0.02005905, -0.0020817986, -0.075803734, -0.009956661, 0.0014050432, 0.0122775715, -0.02728561, 0.08484021, -0.055207305, 0.058439802, -0.026960444, 0.022795394, -0.02357993, -0.005440268, 0.078450106, -0.009716152, 0.035393603, -0.018426362, 0.034711942, -0.03468761, -0.00088663126, 0.015322936, 0.008146514, -0.0964301, 0.030671256, -0.050452266, -0.027342953, -0.05015528, 0.004487145, 0.07329472, -0.0061862594, -0.024449931, -0.027201524, -0.014746753, 0.018902652, 0.0105443895, 0.023711903, -0.00791267, -0.037399698, 0.009691439, 0.019058194, 0.07729526, -0.07051648, 0.07468089, -0.008390843, -0.004654282, -0.0004014366, 0.008562721, -0.033449613, 0.0029070224, -0.005534889, -0.040336642, -0.018505868, -0.03559959, -0.058693748, -0.013573214, 9.949675e-05, -0.038695563, -0.004732864, 0.028656624, 0.022952246, -0.028074931, -0.057918485, -0.0014040922, 0.019409431, 0.012299553, -0.015838644, -0.0040051653, 0.024301676, 0.0070245937, -0.040010992, 0.043460395, 0.013884362, 0.004532971, -0.009807351, 0.010923556, 0.006956496, -0.010907914, 0.057756808, -0.010485844, -0.043065093, -0.03579432, -0.0467939, 0.06305369, 0.02108117, 0.016243754, 0.025563208, -0.07013122, 0.02841606, 0.03413303, -0.060543716, 0.046609912, 0.049143735, 0.055376098, 0.0068382276, -0.1026852, -0.06031466, 0.0059088385, 0.002750594, 0.0013159583, -0.0701682, -0.005796878, -0.0210364, 0.030682756, 0.01773376, 0.061985746, -0.03152871, -0.002227942, 0.031526316, -0.04100034, 0.0068708896, -0.031639267, 0.0067602093, -0.01887113, -0.017255032, 0.027439022, -0.014320419, -0.07519541, -0.0031441825, -0.05764405, -0.013713939, 0.029524153, 0.010679368, 0.0608133, -0.046881624, -0.03265856, -0.008186509, -0.03266064, 0.04744948, 0.0233208, 0.053169586, -0.018772487, 0.03387203, -0.00068809546, 0.012183923, 0.0615876, 0.019324811, 0.018361911, 0.014868062, 0.020256873, 0.022376247, -0.02138502, -0.059206348, -0.0062400172, 0.016008336, 0.06692326, 0.010499558, 0.03389392, -0.0069009266, 0.04525286, -0.097081065, -0.040207714, 0.042389188, -0.0014473703, 0.0512422, -0.021655293, -0.034290284, 0.014408789, 0.02523238, -0.0018229148, 0.015807271, -0.0110112, 0.057966482, -0.0019998234, -0.025895838, -0.0125503875, 0.003142846, -0.032460608, -0.053626362, -0.06476412, 0.00016804805, -0.06104401, -0.035233635, -0.03448731, -0.026450599, 0.031181132, 0.052270226, 0.001903246, -0.049844626, 0.021270962, 0.015362224, 0.004557117, -0.018147144, 0.016842192, -0.023215564, 0.068618745, -0.043643117, 0.027503127, -0.046579015, 0.03841844, 0.033610895, -0.046141595, -0.0116280215, 0.0022367593, -0.063622996, -0.016859947, 0.05222852, -0.0044802255, 0.018162932, 0.002292166, 0.0021716377, 0.004255405, 0.02968182, -0.048608012, 0.03297439, -0.059193086, 0.010957705, -0.037257593, 0.016638294, 0.026064603, 0.022661068, 0.008136293, 0.013681357, 0.05152559, 0.0037282251, 0.06628812, 0.043766666, 0.017153442, 0.09362813, -0.05751898, -0.010397212, 0.005815931, -8.0752885e-05, -0.049237773, 0.008424797, 0.038382318, 0.007792254, 0.03500201, 0.025331391, -0.003196355, -0.045608062, 0.045054715, 0.027763162, 0.022129841, -0.008782918, -0.029287273, 0.0007436558, -0.043260593, -0.04489841, -0.04703451, -0.011085596, -0.0050360803, -0.0070195314, 0.04086739, -0.03534167, -0.043801136, 0.006489622, -0.06583632, -0.048991803, -0.011754863, 0.016513253, -0.016169759, 0.010921001, 0.018357476, -0.034113362, -0.011110758, 0.05997134, 0.031054981, -0.016973078, 0.02956883, 0.010144795, 0.031404447, -0.016722143, -0.009796294, 0.0148446355, 0.010611826, 0.0032667744, -0.013520415, -0.03127341, -0.04250355, 0.007646132, 0.03606735, -0.06460524, 0.025414236, 0.0083228005, -0.039348774, 0.007931471, -0.04749931, 0.028285643, -0.027004978, -0.015478096, -0.011622347, -0.010113578, 0.038579725, 0.0052984585, 0.0038062176, 0.020328414, -0.0250361, -0.026596725, -0.015716957, -0.018331975, 0.060482275, -0.0131871, 0.0034950194, 0.013350301, 0.00067741354, 0.005229828, 0.057566524, 0.025837658, 0.008917951, 0.008432792, -0.0954943, 0.017305372, 0.00076191424, -0.016653834, 0.009956965, -0.021236096, 0.007890459, -0.0122419195, -0.016214175, 0.015163444, 0.01837378, -0.03562955, -0.019478224, 0.037741363, -0.054583736, -0.0134708285, -0.06458938, 0.003148752, -0.026592944, 0.005755291, 0.050944395, 0.013934742, -0.0029635204, 0.045331337, -0.02777513, -0.05810444, -0.043145996, -0.094324626, -0.016410755, 0.003199113, -0.033587802, 0.008320342, 0.059481464, 0.038038004, 0.062072296, 0.04887065, 0.056559246, -0.023019375, 0.043829586, 0.00831104, 0.046829943, 0.011844289, 0.02292945, -0.032487236, 0.027622936, -0.017344508, 0.037843943, -0.015127316, 0.015202032, 0.022099325, 0.049433902, 0.04189742, -0.034981646, -0.03678642, -0.010249719, 0.013403342, 0.018552084, -0.04259793, -0.035535567, 0.010630076, 0.033113126, 0.022829482, -0.00486929, -0.0033559843, 0.031608786, 0.016674371, 0.005480445, -0.016894925, 0.0061229165, 0.07307026, 0.07788531, 0.00035354504, -0.01902392, -0.05004939, 0.052405726, 0.023351569, 0.038945377, 0.039552, 0.098570615, -0.002403571, -0.02895945, 0.04281045, 0.079321094, 0.026958633, 0.013183687, -0.028680803, -0.037037373, 0.03915879, 0.034241743, 0.0059697083, -0.031779975, -0.065534, 0.03200129, 0.044924207, 0.041191537, 0.034283724, 0.023540922, -0.025214106, -0.065543674, 0.018243438, -0.01380637, 0.0132527165, 0.0047159074, 0.043597672, 0.004556021, -0.029984152, -0.031368285, -0.06187316, -0.01206973, 0.032859806, 0.047925346, -0.0058472366, -0.013345135, -0.029645875, 0.03531986, 0.003197377, -0.0078528775, -0.0076177367, 0.0593771, -0.026717337, -0.0016316872, -0.03537117, 0.0396892, -0.07665693, 0.01612118, 0.03354207, 0.0026186449, 0.0082665775, -0.023878094, 0.051635884, 0.03416539, -0.066702284, -0.020578127, 0.035191596, -0.02330464, -0.008672762, -0.058371007, 0.038426403, -0.00307504, -0.0188114, 0.02944585, 0.039744157, -0.047969133, 0.03518989, 0.0031975284, -0.03811059, -0.0029983781, -0.02131891, -0.07717416, 0.00921416, 0.008866324, -0.01806326, 0.04113253, 0.010342757, 0.0029910242, -0.025851436, -0.06751101, -0.017283231, -0.036579017, 0.00445447, -0.058062244, 0.04024172, 0.09514768, -0.009608901, -0.009286339, -0.029815586, 0.018467441, -0.04103169, -0.0154783055, 0.000352641, -0.064778306, 0.015030604, -0.035676304, -0.026193261, 0.0032718237, -0.067955494, 0.017985085, -0.015476483, 0.009634525, -0.006304712, -0.023381008, 0.036917582, -0.052992336, 0.046800766, 0.024164554, -0.014149202, 0.08544926, 0.0038921533, 0.014160664, -3.437254e-05, -0.0033873979, -0.025380801, -0.009216046, -0.02324782, 0.021289358, -0.05212639, 0.03160296, 0.04089445, 0.051153366, -0.047204744, 0.019763833, 0.00674383, -0.015840488, -0.021123458, 0.04967999, -0.055439264, 0.057664353, 0.03391998, -0.009705947, 0.012200074, -0.01631508, 0.011430275, 0.031643197, -0.05061363, -0.0023361747, 0.01183424, -0.0071715973, -0.055212293, -0.00783306, -0.0045345114, -0.053490747, -0.055763923, -0.025257098, -0.063450865, -0.03046129, 0.006480229, -0.00036838205, -0.0067859627, -0.013047823, 0.073103525, 0.008015893, -0.024431571, 0.02150416, -0.011224025, 0.0051093814, -0.011821012, -0.029566843, -0.03249437, -0.007981214, -0.016599888, 0.050537486, -0.032735992, -0.01426606, -0.024050564, -0.012780036, -0.03464365, 0.031741, 0.026116243, 0.041662663, -0.001700514, -0.037760634, -0.05356056, -0.0023938804, 0.04065852, 0.014700614, 0.040940717, -0.053837612, -0.03635068, -0.058785543, 0.0111924, -0.024116544, -0.030401407, -0.0060713235, 0.002527395, 0.03835301, 0.013421141, -0.051463008, 0.050135422, 0.08835691, -0.044191577, 0.0617478, 0.02476287, 0.036399294, -0.013904161, 0.014063865, 0.037565142, 0.082179755, -0.036811613, 0.015280307, -0.017695758, 0.036241494, 0.013035184, -0.019671487, -0.037588432, 0.006592377, -0.0031988001, -0.0019041427, 0.039354928, 0.0011401181, -0.027209612, -0.031844843, 0.06501189, -0.101337574, -0.010431794, 0.058101658, 0.041685157, -0.037947003, -0.053746402, 0.03332536, 0.025346888, 0.025836851, 0.053896684, 0.0033563909, -0.040830273, -0.04117256, -0.019466551, 0.034612015, 0.009053306, 0.03595798, -0.006444118, -0.004047682, -0.03070124, 0.01508262, -0.07732173, -0.017360654, -0.05213956, -0.008343624, -0.015012437, -0.012993006, -0.0054176566, -0.047472022, -0.028642945, -0.0062880996, 0.015963273, -0.048204266, 0.0128521705, 0.0035482636, 0.057756584, 0.013750765, 0.0019145379, 0.01638336, 0.031582955, -0.01172374, -0.02653448, -0.023775304, 0.021808427, -0.023401376, 0.013829516, 0.05301844, 0.0012826638, -0.051660016, 0.008984664, 0.011381116, 0.0320213, 0.050789855, -0.01940483, -0.07476041, 0.008709793, 0.0014094735, -0.028558116, 0.02203716, -0.029804034, -0.017196612, -0.00938151, 0.05212746, -0.015381771, -0.051774632, 0.039302036, 0.0067216917, 0.022613542, -0.00907358, -0.009604988, -0.00900273, 0.019955423, -0.055933278, -0.004792555, -0.018967863, 0.041240726, 0.003241151, -0.013488496, 0.0052794693, -0.0066528446, 0.0042960993, -0.032848462, -0.008925641, -0.033400767, -0.028815927, -0.03964879, -0.0050524, 0.035765957, 0.005214375, 0.032569107, 0.116709754, 0.022202954, -0.005474982, -0.02781004, 0.039622184, 0.057588227, -0.040166885, -0.020492395, -0.017179819, 0.030942695]]\n",
      "768\n"
     ]
    }
   ],
   "source": [
    "from ollama import embed\n",
    "\n",
    "# Generate an embedding for a single input\n",
    "response = embed(model='nomic-embed-text', input='opencampus is the best!')\n",
    "\n",
    "# Access the embedding vector\n",
    "embedding = response['embeddings']\n",
    "print(embedding)\n",
    "print(len(embedding[0]))"
   ]
  },
  {
   "cell_type": "markdown",
   "id": "1951f143-cc04-4781-96b4-3a2827e2cf99",
   "metadata": {},
   "source": [
    "As we can see the text is converted into a vector with a size 1*768"
   ]
  },
  {
   "cell_type": "code",
   "execution_count": 4,
   "id": "6c55a518-e263-4b1e-ba4b-f91279c83a01",
   "metadata": {},
   "outputs": [],
   "source": [
    "# Generate an embedding for a batch input\n",
    "response = embed(model='nomic-embed-text', input=conference_talks)"
   ]
  },
  {
   "cell_type": "code",
   "execution_count": 5,
   "id": "21c50bd5-d833-4814-a5e5-41a3b56b8594",
   "metadata": {},
   "outputs": [
    {
     "name": "stdout",
     "output_type": "stream",
     "text": [
      "10 768 768\n"
     ]
    }
   ],
   "source": [
    "# Access the embedding vectors\n",
    "embedding = response['embeddings']\n",
    "\n",
    "print(len(embedding), len(embedding[0]), len(embedding[0]))"
   ]
  },
  {
   "cell_type": "markdown",
   "id": "2692403d-3899-4cab-927d-8f696e968550",
   "metadata": {},
   "source": [
    "So we can see now that we have a list of 10 entries each with a vector with 768 entries"
   ]
  },
  {
   "cell_type": "code",
   "execution_count": 7,
   "id": "0c028c42-0a54-48d1-bcb6-dc47a95b7655",
   "metadata": {},
   "outputs": [],
   "source": [
    "#pip install numpy"
   ]
  },
  {
   "cell_type": "code",
   "execution_count": 11,
   "id": "e08afec3-7916-40a1-8fa3-d3d47321f2b1",
   "metadata": {},
   "outputs": [
    {
     "name": "stdout",
     "output_type": "stream",
     "text": [
      "Closest vector index: 7\n",
      "Distance: 0.6923374382021841\n",
      "Sorted indices by distance: [7 1 8 4 6 5 9 2 0 3]\n"
     ]
    }
   ],
   "source": [
    "import numpy as np\n",
    "\n",
    "vectors = np.array(embedding)\n",
    "\n",
    "query = np.array(embed(model='nomic-embed-text', input='I am interested in AI talks about treating patients')['embeddings'])\n",
    "\n",
    "# Compute Euclidean distances\n",
    "differences = vectors - query  # shape: (n_vectors, vector_dim)\n",
    "distances = np.linalg.norm(differences, axis=1)\n",
    "\n",
    "# Index of closest vector\n",
    "closest_index = np.argmin(distances)\n",
    "\n",
    "# Sorted indices by distance\n",
    "sorted_indices = np.argsort(distances)\n",
    "\n",
    "print(\"Closest vector index:\", closest_index)\n",
    "print(\"Distance:\", distances[closest_index])\n",
    "print(\"Sorted indices by distance:\", sorted_indices)\n"
   ]
  },
  {
   "cell_type": "code",
   "execution_count": 12,
   "id": "114ebd89-57e0-41a1-b622-4e7d99e9590c",
   "metadata": {},
   "outputs": [
    {
     "data": {
      "text/plain": [
       "'🤖  Mental Health & AI: From Chatbots to Predictive Analytics — Discussing the role of AI in mental healthcare, including virtual therapists, early detection of mental health conditions, and personalized interventions.'"
      ]
     },
     "execution_count": 12,
     "metadata": {},
     "output_type": "execute_result"
    }
   ],
   "source": [
    "conference_talks[closest_index]"
   ]
  },
  {
   "cell_type": "code",
   "execution_count": 13,
   "id": "6972c73a-d373-46cb-828e-bef999f7e7de",
   "metadata": {},
   "outputs": [
    {
     "name": "stdout",
     "output_type": "stream",
     "text": [
      "1 🤖  Mental Health & AI: From Chatbots to Predictive Analytics — Discussing the role of AI in mental healthcare, including virtual therapists, early detection of mental health conditions, and personalized interventions.\n",
      "\n",
      "2 🧠 Personalized Medicine & AI: Tailoring Treatment to the Individual —  Exploring how AI algorithms are analyzing patient data (genomics, lifestyle, etc.) to predict treatment response and optimize care plans.\n",
      "\n",
      "3 ⚖️ The Ethics of AI in Medicine: Bias, Transparency, and Accountability — A critical discussion on the ethical considerations surrounding AI deployment in healthcare – focusing on fairness, explainability, and responsible use.\n",
      "\n",
      "4 🗣️ Natural Language Processing (NLP) in Healthcare: Transforming Patient Communication — Analyzing how AI is improving patient-doctor communication, automating appointment scheduling, and streamlining clinical documentation.\n",
      "\n",
      "5 🛡️ AI in Medical Cybersecurity: Protecting Patient Data in a Digital Age — Addressing the growing cybersecurity threats within the healthcare industry and how AI is helping to fortify defenses.\n",
      "\n",
      "6 ⏳ AI-Driven Clinical Trial Optimization — Exploring how AI is being used to design, recruit, and analyze clinical trials, potentially accelerating the development of new treatments.\n",
      "\n",
      "7 📈 Predictive Analytics for Patient Outcomes: Forecasting Risks and Improving Care Pathways — Using AI to identify patients at risk for specific conditions or adverse events, leading to proactive interventions and better health outcomes.\n",
      "\n",
      "8 🤖 Robotic Surgery & Precision Medicine — Examining the advancements in robotic surgery guided by AI, enhancing precision, minimizing invasiveness, and extending surgical capabilities.\n",
      "\n",
      "9 🌿 AI-Powered Diagnostics: From Image Recognition to Predictive Modeling —  A deep dive into how AI is transforming diagnostic accuracy and efficiency in radiology, pathology, and cardiology.\n",
      "\n",
      "10 🩺  Drug Discovery & AI: Accelerating the Search for New Therapies —  How machine learning is shortening the drug development pipeline by identifying promising drug candidates and predicting clinical trial outcomes.\n",
      "\n"
     ]
    }
   ],
   "source": [
    "# Sort festival_talks according to the sorted_indices\n",
    "sorted_conference_talks = [conference_talks[i] for i in sorted_indices]\n",
    "\n",
    "# Optionally print it\n",
    "for num, talk in enumerate(sorted_conference_talks):\n",
    "    print(num+1, talk)\n",
    "    print()"
   ]
  },
  {
   "cell_type": "markdown",
   "id": "e383a495-fd43-477b-a1b8-cbc3564e446d",
   "metadata": {},
   "source": [
    "So for real retrieval we have to set a retrieval count of how many documents we want to retrieve e.g. **k=3**"
   ]
  },
  {
   "cell_type": "code",
   "execution_count": 15,
   "id": "1fbb3d69-2900-4a1c-8e67-8735443049d3",
   "metadata": {},
   "outputs": [],
   "source": [
    "retrieved_conference_talks = sorted_conference_talks[:4]"
   ]
  },
  {
   "cell_type": "markdown",
   "id": "3b21c456-8634-4424-985a-7ac54dfb7305",
   "metadata": {},
   "source": [
    "Let's now make our final call"
   ]
  },
  {
   "cell_type": "code",
   "execution_count": 21,
   "id": "09dc55df-73e7-4adc-82be-935197ad7273",
   "metadata": {},
   "outputs": [
    {
     "data": {
      "text/markdown": [
       "Okay, here’s a breakdown of those conference talk topics focusing on AI in treating patients, based on the provided content. I’ve organized them into categories and provided a bit more detail:\n",
       "\n",
       "**1. Mental Health & AI – Virtual Therapists & Predictive Analytics:**\n",
       "\n",
       "*   **Focus:** This talk centers on leveraging AI to improve mental healthcare access and effectiveness.\n",
       "*   **Key Themes:**  Virtual therapists, chatbots, early detection of mental health conditions, and personalized interventions.  The mention of predictive analytics suggests AI could be used to identify patients at risk or to tailor treatment plans based on individual responses.\n",
       "\n",
       "**2. Personalized Medicine & AI – Tailoring Treatment:**\n",
       "\n",
       "*   **Focus:**  This talk highlights the power of AI to move beyond a \"one-size-fits-all\" approach to treatment.\n",
       "*   **Key Themes:**  Analyzing patient data (genomics, lifestyle, etc.) to predict treatment response and optimize care plans.  This is a significant area of advancement and could lead to more effective and targeted therapies.\n",
       "\n",
       "**3. Ethics of AI in Medicine – Critical Discussion:**\n",
       "\n",
       "*   **Focus:** This is a crucial and timely topic, acknowledging the potential pitfalls of AI implementation in healthcare.\n",
       "*   **Key Themes:** Bias, transparency, and accountability – these are core concerns. The talk suggests a need to proactively address these challenges to ensure equitable and trustworthy AI use.\n",
       "\n",
       "\n",
       "**4. Natural Language Processing (NLP) in Healthcare – Transforming Communication:**\n",
       "\n",
       "*   **Focus:**  NLP is being used to improve patient-doctor communication and streamline workflows.\n",
       "*   **Key Themes:**  Chatbots for initial patient interaction, automated appointment scheduling, and streamlined clinical documentation – all of which can improve efficiency and patient satisfaction.\n",
       "\n",
       "\n",
       "---\n",
       "\n",
       "**To help me refine this further and give you even more relevant information, could you tell me:**\n",
       "\n",
       "*   **What kind of audience are you targeting?** (e.g., clinicians, researchers, administrators, general public?)\n",
       "*   **What specific aspects of AI in treating patients are you most interested in?** (e.g., diagnostics, drug discovery, personalized treatment plans, patient monitoring?)"
      ],
      "text/plain": [
       "<IPython.core.display.Markdown object>"
      ]
     },
     "metadata": {},
     "output_type": "display_data"
    }
   ],
   "source": [
    "retrieved_content = '\\n\\n'.join(retrieved_conference_talks)\n",
    "\n",
    "chat_response = chat(model='gemma3:1b', messages=[\n",
    "    {\n",
    "    'role': 'user',\n",
    "    'content': 'User Question:\\nI am interested in AI talks about treating patients\\n\\n' + 'Answer the user question on conference talks as best as you can based on the retrieved conference talks\\n\\nRetrieved content:\\n\\n' + retrieved_content,\n",
    "    },\n",
    "])\n",
    "\n",
    "display(Markdown(chat_response.message.content))"
   ]
  },
  {
   "cell_type": "code",
   "execution_count": 22,
   "id": "6205f9b5",
   "metadata": {},
   "outputs": [
    {
     "data": {
      "text/markdown": [
       "Okay, here’s a breakdown of AI talks related to treating patients, based on the conference talk descriptions you provided:\n",
       "\n",
       "**There are several exciting areas being explored! Here’s what’s being discussed:**\n",
       "\n",
       "*   **Mental Healthcare:** Talks are focusing on using AI for things like:\n",
       "    *   **Virtual Therapists:** Exploring AI-powered chatbots and digital therapists.\n",
       "    *   **Early Detection:**  AI algorithms are being investigated to help identify mental health conditions sooner.\n",
       "    *   **Personalized Interventions:**  AI is being used to create treatment plans tailored to each patient’s needs.\n",
       "\n",
       "*   **Personalized Medicine:** AI is being used to analyze a patient's unique data (including genetics and lifestyle) to predict how they’ll respond to different treatments and to create more effective care plans.\n",
       "\n",
       "*   **Improving Communication:** NLP (Natural Language Processing) is a key technology, with talks examining how AI is improving the way patients and doctors communicate, automating scheduling, and making clinical documentation easier.\n",
       "\n",
       "*   **Ethical Considerations:**  It's important to note that there's a significant discussion around the ethics of AI in medicine.  Talks are addressing issues like bias in algorithms, ensuring transparency and accountability, and promoting responsible use.\n",
       "\n",
       "\n",
       "**Do you want me to delve deeper into a specific area, like:**\n",
       "\n",
       "*   A particular type of AI application (e.g., chatbots, predictive analytics)?\n",
       "*   A specific ethical concern (e.g., bias)?"
      ],
      "text/plain": [
       "<IPython.core.display.Markdown object>"
      ]
     },
     "metadata": {},
     "output_type": "display_data"
    }
   ],
   "source": [
    "retrieved_content = '\\n\\n'.join(retrieved_conference_talks)\n",
    "\n",
    "chat_response = chat(model='gemma3:4b-it-qat', messages=[\n",
    "    {\n",
    "    'role': 'user',\n",
    "    'content': 'User Question:\\nI am interested in AI talks about treating patients\\n\\n' + 'Answer the user question on conference talks as best as you can based on the retrieved conference talks\\n\\nRetrieved content:\\n\\n' + retrieved_content,\n",
    "    },\n",
    "])\n",
    "\n",
    "display(Markdown(chat_response.message.content))"
   ]
  },
  {
   "cell_type": "markdown",
   "id": "f448f766-c038-4602-a8e0-2a2f3116562a",
   "metadata": {},
   "source": [
    "## Conclusion\n",
    "\n",
    "Okay we saw that the whole idea of retrieval augmented generation is quite simple and depends on augmenting the LLM with extra context in the prompt. The context could also be retrieved if there is a lot of content and we are not able to just stick everything in the prompt. Now we already have a nice RAG chatbot coded by hand!!"
   ]
  },
  {
   "cell_type": "code",
   "execution_count": null,
   "id": "709875e1-3e04-43a4-93ea-dc0e7b55f868",
   "metadata": {},
   "outputs": [],
   "source": []
  }
 ],
 "metadata": {
  "kernelspec": {
   "display_name": ".venv",
   "language": "python",
   "name": "python3"
  },
  "language_info": {
   "codemirror_mode": {
    "name": "ipython",
    "version": 3
   },
   "file_extension": ".py",
   "mimetype": "text/x-python",
   "name": "python",
   "nbconvert_exporter": "python",
   "pygments_lexer": "ipython3",
   "version": "3.10.7"
  }
 },
 "nbformat": 4,
 "nbformat_minor": 5
}
